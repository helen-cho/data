{
 "cells": [
  {
   "cell_type": "markdown",
   "id": "eb487f5a",
   "metadata": {},
   "source": [
    "# 14.데이터그룹화"
   ]
  },
  {
   "cell_type": "code",
   "execution_count": 1,
   "id": "91f2e595",
   "metadata": {},
   "outputs": [],
   "source": [
    "import pandas as pd"
   ]
  },
  {
   "cell_type": "markdown",
   "id": "3b4c1965",
   "metadata": {},
   "source": [
    "1)강좌.csv 파일을 데이터프레임(df_cou) 변수에 저장후 출력한다."
   ]
  },
  {
   "cell_type": "code",
   "execution_count": null,
   "id": "1b3ad78d",
   "metadata": {},
   "outputs": [],
   "source": []
  },
  {
   "cell_type": "markdown",
   "id": "fd35a1a1",
   "metadata": {},
   "source": [
    "2)학생.csv 파일을 데이터프레임(df_stu) 변수에 저장후 출력한다."
   ]
  },
  {
   "cell_type": "code",
   "execution_count": null,
   "id": "e6f98656",
   "metadata": {},
   "outputs": [],
   "source": []
  },
  {
   "cell_type": "markdown",
   "id": "e8e1dc12",
   "metadata": {},
   "source": [
    "3)교수.csv 파일을 데이터프레임(df_pro) 변수에 저장후 출력한다."
   ]
  },
  {
   "cell_type": "code",
   "execution_count": null,
   "id": "7a2873e9",
   "metadata": {},
   "outputs": [],
   "source": []
  },
  {
   "cell_type": "markdown",
   "id": "e3c9b864",
   "metadata": {},
   "source": [
    "4)수강.csv 파일을 데이터프레임(df_enrol) 변수에 저장후 출력한다."
   ]
  },
  {
   "cell_type": "code",
   "execution_count": null,
   "id": "63b07881",
   "metadata": {},
   "outputs": [],
   "source": []
  },
  {
   "cell_type": "markdown",
   "id": "e9ab78ac",
   "metadata": {},
   "source": [
    "5)데이터프레임(df_stu)에서 '학생학과'별로 그룹화를 한 후 '전산'과 학생들을 출력한다."
   ]
  },
  {
   "cell_type": "code",
   "execution_count": null,
   "id": "e556fe1e",
   "metadata": {},
   "outputs": [],
   "source": []
  },
  {
   "cell_type": "markdown",
   "id": "1e14dfce",
   "metadata": {},
   "source": [
    "6)데이터프레임(df_stu)에서 '학생학과'별로 그룹화를 한 후 학과별 학생 수를 출력한다."
   ]
  },
  {
   "cell_type": "code",
   "execution_count": null,
   "id": "243c00b1",
   "metadata": {},
   "outputs": [],
   "source": []
  },
  {
   "cell_type": "markdown",
   "id": "d6f9489a",
   "metadata": {},
   "source": [
    "7)데이터프레임(df_stu)에서 '학생학과', '학년'별로 그룹화한 후 학생 수를 출력한다."
   ]
  },
  {
   "cell_type": "code",
   "execution_count": null,
   "id": "4b2ee159",
   "metadata": {},
   "outputs": [],
   "source": []
  },
  {
   "cell_type": "markdown",
   "id": "cbc25327",
   "metadata": {},
   "source": [
    "8)데이터프레임(df_enrol)에서 '강좌번호'별로 그룹화를 한 후 '점수'의 평균을 출력한다."
   ]
  },
  {
   "cell_type": "code",
   "execution_count": null,
   "id": "55e26fe9",
   "metadata": {},
   "outputs": [],
   "source": []
  },
  {
   "cell_type": "markdown",
   "id": "8ca3c850",
   "metadata": {},
   "source": [
    "# 15.데이터병합"
   ]
  },
  {
   "cell_type": "markdown",
   "id": "3c1b31b0",
   "metadata": {},
   "source": [
    "1)데이터프레임(df_pro)에서 '교수번호', '교수이름'열로 새로운 데이터프레임(df_pcode_pname)을 생성한다."
   ]
  },
  {
   "cell_type": "code",
   "execution_count": null,
   "id": "3af3939d",
   "metadata": {},
   "outputs": [],
   "source": []
  },
  {
   "cell_type": "markdown",
   "id": "89c80c0b",
   "metadata": {},
   "source": [
    "2)df_stu와 df_pcode_pname을 '지도교수'와 '교수번호'로 병합한 후 df_merge_stu에 저장 후 출력한다."
   ]
  },
  {
   "cell_type": "code",
   "execution_count": null,
   "id": "873992cd",
   "metadata": {},
   "outputs": [],
   "source": []
  },
  {
   "cell_type": "markdown",
   "id": "96847c31",
   "metadata": {},
   "source": [
    "3)df_cou와 df_pcode_pname을 병합하여 '담당교수'와 '교수번호'로 병합한 후 df_merge_cou에 저장 후 출력한다."
   ]
  },
  {
   "cell_type": "code",
   "execution_count": null,
   "id": "d2ba0336",
   "metadata": {},
   "outputs": [],
   "source": []
  },
  {
   "cell_type": "markdown",
   "id": "3e74afd8",
   "metadata": {},
   "source": [
    "4)df_enrol과 df_stu을 '학생번호'로 병합하여 df_merge에 저장 후 출력한다."
   ]
  },
  {
   "cell_type": "code",
   "execution_count": null,
   "id": "a1ba6d47",
   "metadata": {},
   "outputs": [],
   "source": []
  },
  {
   "cell_type": "markdown",
   "id": "2770e6c1",
   "metadata": {},
   "source": [
    "5)df_merge와 df_cou를 '강좌번호'로 병합하여 df_merge에 저장 후 출력한다."
   ]
  },
  {
   "cell_type": "code",
   "execution_count": null,
   "id": "1cfb90ed",
   "metadata": {},
   "outputs": [],
   "source": []
  },
  {
   "cell_type": "markdown",
   "id": "4e78515f",
   "metadata": {},
   "source": [
    "6)df_merge에서 '학생번호', '학생이름'별로 그룹화한 후 학생들의 '수강과목수'를 출력한다."
   ]
  },
  {
   "cell_type": "markdown",
   "id": "9badd1bc",
   "metadata": {},
   "source": []
  },
  {
   "cell_type": "markdown",
   "id": "6fda25ee",
   "metadata": {},
   "source": [
    "7)df_merge에서 '학생번호', '학생이름'별로 그룹화한 후 학생들의 '평균'점수를 출력한다."
   ]
  },
  {
   "cell_type": "markdown",
   "id": "88bbaa72",
   "metadata": {},
   "source": []
  },
  {
   "cell_type": "code",
   "execution_count": null,
   "id": "25c6004d",
   "metadata": {},
   "outputs": [],
   "source": []
  },
  {
   "cell_type": "markdown",
   "id": "b09e3653",
   "metadata": {},
   "source": [
    "8)df_merge에서 '강좌번호', '강좌이름'별로 그룹화한 후 강좌들의 '수강인원수'를 출력한다."
   ]
  },
  {
   "cell_type": "code",
   "execution_count": null,
   "id": "e2079933",
   "metadata": {},
   "outputs": [],
   "source": []
  },
  {
   "cell_type": "markdown",
   "id": "7d5299e9",
   "metadata": {},
   "source": [
    "7)df_merge에서 '강좌번호', '강좌이름'별로 그룹화한 후 강좌들의 '평균'점수를 출력한다."
   ]
  },
  {
   "cell_type": "code",
   "execution_count": null,
   "id": "a80304f9",
   "metadata": {},
   "outputs": [],
   "source": []
  }
 ],
 "metadata": {
  "kernelspec": {
   "display_name": "Python 3",
   "language": "python",
   "name": "python3"
  },
  "language_info": {
   "codemirror_mode": {
    "name": "ipython",
    "version": 3
   },
   "file_extension": ".py",
   "mimetype": "text/x-python",
   "name": "python",
   "nbconvert_exporter": "python",
   "pygments_lexer": "ipython3",
   "version": "3.13.1"
  }
 },
 "nbformat": 4,
 "nbformat_minor": 5
}
