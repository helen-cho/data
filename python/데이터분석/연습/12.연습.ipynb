{
 "cells": [
  {
   "cell_type": "code",
   "execution_count": null,
   "id": "8274f870",
   "metadata": {},
   "outputs": [],
   "source": [
    "#한글글꼴 설치\n",
    "!sudo apt-get install -y fonts-nanum\n",
    "!sudo fc-cache -fv\n",
    "!rm ~/.cache/matplotlib -rf"
   ]
  },
  {
   "cell_type": "code",
   "execution_count": null,
   "id": "a3e910f8",
   "metadata": {},
   "outputs": [],
   "source": [
    "#한글글꼴 설정\n",
    "import matplotlib.pyplot as plt\n",
    "plt.rc('font', family='NanumBarunGothic')\n",
    "plt.rc('font', size= 20)"
   ]
  },
  {
   "cell_type": "code",
   "execution_count": 1,
   "id": "b2494ad2",
   "metadata": {},
   "outputs": [],
   "source": [
    "#데이터터 생성\n",
    "values = [30, 25, 20, 13, 10, 2]\n",
    "labels =['Python', 'Java', 'Javascript', 'C#', 'C/C++', 'ETC']\n",
    "colors = ['#FFADAD','#FFD6A5','#FDFFB6','#CAFFBF','#9BF6FF','#A0C4FF']\n",
    "explode = [0.02] * 6"
   ]
  },
  {
   "cell_type": "code",
   "execution_count": 2,
   "id": "8c38053c",
   "metadata": {},
   "outputs": [],
   "source": [
    "#퍼센트가 10보다 큰 경우에만 출력하는 함수\n",
    "def custom_autopct(pct):\n",
    "    return '{:.0f}%'.format(pct) if pct >=10 else ''"
   ]
  },
  {
   "cell_type": "markdown",
   "id": "8de4f089",
   "metadata": {},
   "source": [
    "![nn](https://github.com/helen-cho/data/blob/master/python/pie.png?raw=true)"
   ]
  },
  {
   "cell_type": "code",
   "execution_count": 6,
   "id": "4d2e167e",
   "metadata": {},
   "outputs": [],
   "source": [
    "#위 그래프를 출력한다."
   ]
  }
 ],
 "metadata": {
  "kernelspec": {
   "display_name": "Python 3",
   "language": "python",
   "name": "python3"
  },
  "language_info": {
   "codemirror_mode": {
    "name": "ipython",
    "version": 3
   },
   "file_extension": ".py",
   "mimetype": "text/x-python",
   "name": "python",
   "nbconvert_exporter": "python",
   "pygments_lexer": "ipython3",
   "version": "3.13.1"
  }
 },
 "nbformat": 4,
 "nbformat_minor": 5
}
