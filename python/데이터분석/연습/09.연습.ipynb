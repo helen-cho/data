{
 "cells": [
  {
   "cell_type": "code",
   "execution_count": null,
   "id": "36e021d8",
   "metadata": {},
   "outputs": [],
   "source": [
    "!sudo apt-get install -y fonts-nanum\n",
    "!sudo fc-cache -fv\n",
    "!rm ~/.cache/matplotlib -rf"
   ]
  },
  {
   "cell_type": "markdown",
   "id": "713fef96",
   "metadata": {},
   "source": [
    "![nn](https://github.com/helen-cho/data/blob/master/python/shot.png?raw=true)"
   ]
  },
  {
   "cell_type": "code",
   "execution_count": 1,
   "id": "c4305186",
   "metadata": {},
   "outputs": [],
   "source": [
    "import matplotlib.pyplot as plt\n",
    "plt.rc('font', family='NanumBarunGothic')\n",
    "plt.rc('font', size= 20)"
   ]
  },
  {
   "cell_type": "code",
   "execution_count": 3,
   "id": "25e7345b",
   "metadata": {},
   "outputs": [],
   "source": [
    "days = [1, 2, 3]\n",
    "az = [2, 4, 8]\n",
    "pfizer = [5, 1, 3]\n",
    "moderna = [1, 2, 5]"
   ]
  },
  {
   "cell_type": "code",
   "execution_count": null,
   "id": "4fafa10c",
   "metadata": {},
   "outputs": [],
   "source": []
  }
 ],
 "metadata": {
  "kernelspec": {
   "display_name": "Python 3",
   "language": "python",
   "name": "python3"
  },
  "language_info": {
   "codemirror_mode": {
    "name": "ipython",
    "version": 3
   },
   "file_extension": ".py",
   "mimetype": "text/x-python",
   "name": "python",
   "nbconvert_exporter": "python",
   "pygments_lexer": "ipython3",
   "version": "3.13.1"
  }
 },
 "nbformat": 4,
 "nbformat_minor": 5
}
